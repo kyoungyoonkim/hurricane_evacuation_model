{
 "cells": [
  {
   "cell_type": "code",
   "execution_count": 53,
   "metadata": {},
   "outputs": [],
   "source": [
    "import csv\n",
    "import numpy as np\n",
    "import pandas as pd\n",
    "\n",
    "import os\n",
    "import sys\n",
    "import inspect\n",
    "import time"
   ]
  },
  {
   "cell_type": "markdown",
   "metadata": {},
   "source": [
    "### STEP 1: GET SCENARIO WITH MOST NUMBER OF FLOODED LOCATION "
   ]
  },
  {
   "cell_type": "code",
   "execution_count": 54,
   "metadata": {},
   "outputs": [
    {
     "name": "stdout",
     "output_type": "stream",
     "text": [
      "nw205i2_25-11 25\n"
     ]
    }
   ],
   "source": [
    "file = 'scenario_lookup.tab'\n",
    "\n",
    "# Small scale\n",
    "path = '/Users/kyoung/Box Sync/github/run/heuristic_path_zEnumeration0_hnnh0_intensity2_10182020_0_single_1_124_free_z/input/'\n",
    "\n",
    "# Full scale\n",
    "# path = '/Users/kyoung/Box Sync/github/run/heuristic_path_zEnumeration1_hnnh1_intensity2_10182020_1_single_1_124_free_z/input/'\n",
    "df = pd.read_csv(path + file, delimiter='\\t')\n",
    "\n",
    "list_scenarios = list(df['scenario'].unique())\n",
    "dict_num_flooded = {}\n",
    "dict_flooded = {}\n",
    "max_num = 0\n",
    "for s in list_scenarios:\n",
    "    df0 = df[df['scenario'] == s]\n",
    "    dict_flooded[s] = list(df0['sender'])\n",
    "    if len(df0) > max_num:\n",
    "        max_num = len(df0)\n",
    "        max_scenario = s\n",
    "\n",
    "print(max_scenario, len(list_scenarios))"
   ]
  },
  {
   "cell_type": "markdown",
   "metadata": {},
   "source": [
    "### STEP 2: FIND STAGING AREA LOCATION FROM THE MAX SCENARIO"
   ]
  },
  {
   "cell_type": "code",
   "execution_count": 55,
   "metadata": {},
   "outputs": [],
   "source": [
    "# GET MINIMUM SUM OF DISTANCES FROM THE SCENARIO\n",
    "file = 'input_c_ijv.tab'\n",
    "df_distance = pd.read_csv(path + file, delimiter='\\t')\n",
    "\n",
    "list_staging = list(df_distance['stagingArea'].unique())\n",
    "min_distance = 9999999\n",
    "\n",
    "dict_stagingArea_distance = {}\n",
    "vehicle = 'v00'\n",
    "for i in list_staging:\n",
    "    df0 = df_distance[df_distance['stagingArea'] == i]    \n",
    "    summation = 0\n",
    "\n",
    "    for j in dict_flooded[max_scenario]:\n",
    "        summation = summation + df0[(df0['sender'] == j) & (df0['vehicleType'] == vehicle)]['c_ijv'].values[0]\n",
    "    \n",
    "    dict_stagingArea_distance[i] = summation\n",
    "    \n",
    "    if summation < min_distance:\n",
    "        min_distance = summation\n",
    "        staging_area = i        "
   ]
  },
  {
   "cell_type": "code",
   "execution_count": 56,
   "metadata": {},
   "outputs": [
    {
     "name": "stdout",
     "output_type": "stream",
     "text": [
      "STAGING AREA WITH MIN. DISTANCE:  a001\n"
     ]
    }
   ],
   "source": [
    "print(\"STAGING AREA WITH MIN. DISTANCE: \", staging_area)"
   ]
  },
  {
   "cell_type": "markdown",
   "metadata": {},
   "source": [
    "### STEP 3: GET PARAMETERS "
   ]
  },
  {
   "cell_type": "code",
   "execution_count": 57,
   "metadata": {},
   "outputs": [],
   "source": [
    "# DEMANDS\n",
    "file = 'input_demand_vs.tab'\n",
    "df_demand = pd.read_csv(path + file, delimiter='\\t')\n",
    "list_scenarios = list(df_demand['scenario'].unique())\n",
    "\n",
    "# AMBUS CAPACITY\n",
    "file = 'input_ambulanceCapacity.tab'\n",
    "df_vehicleCapacity = pd.read_csv(path + file, delimiter='\\t')\n",
    "dict_vehicleCap = dict(zip(df_vehicleCapacity['ambulanceType'], df_vehicleCapacity['capacity']))\n",
    "\n",
    "# ROUTES(PATHS) WITH STAGING AREA FOUND\n",
    "file = 'input_c1.tab'\n",
    "df_routes = pd.read_csv(path + file, delimiter='\\t')\n",
    "df_routes = df_routes[df_routes['stagingArea'] == staging_area]\n",
    "\n",
    "# RECEIVER CAPACITY\n",
    "file = 'input_receiverCapacity.tab'\n",
    "df_capacity = pd.read_csv(path + file, delimiter='\\t')"
   ]
  },
  {
   "cell_type": "markdown",
   "metadata": {},
   "source": [
    "### STEP 4: DEFINE FUNCTIONS FOR ASSIGNING DEMANDS TO VARIABLE X"
   ]
  },
  {
   "cell_type": "code",
   "execution_count": 58,
   "metadata": {},
   "outputs": [],
   "source": [
    "def choose_routes_new(df_routes, sender):\n",
    "    df_route_sender = df_routes[(df_routes['sender'] == sender)]\n",
    "    df_route_sender.reset_index(drop=True)\n",
    "    return df_route_sender"
   ]
  },
  {
   "cell_type": "code",
   "execution_count": 59,
   "metadata": {},
   "outputs": [],
   "source": [
    "def divide_ambusCap(dict_vehicleCap, input_demand):\n",
    "    dict_output = {}\n",
    "    for key, val in dict_vehicleCap.items():\n",
    "        if key != 'v00':\n",
    "            sol = int(input_demand / val)\n",
    "            remainder = input_demand - (val*sol)\n",
    "            dict_output[key] = [sol, remainder]\n",
    "    return dict_output"
   ]
  },
  {
   "cell_type": "code",
   "execution_count": 60,
   "metadata": {},
   "outputs": [],
   "source": [
    "def get_ambusCap(dict_vehicleCap, dict_solutions, num_ambus, num_demand):\n",
    "    max_divider = 0\n",
    "    max_solution = 0\n",
    "\n",
    "    list_sols = [dict_solutions[key][0] for key in dict_solutions.keys()]\n",
    "    list_vals = [dict_solutions[key][1] for key in dict_solutions.keys()]\n",
    "    if max(list_sols) == 0:\n",
    "        list_solution = ['v00', max(list_vals), num_ambus]\n",
    "    elif num_ambus == 0:\n",
    "        list_solution = ['v00', num_demand, num_ambus]\n",
    "    \n",
    "    else:\n",
    "        for key, val in dict_solutions.items():\n",
    "            if (val[0] != 0) & (dict_vehicleCap[key] >= max_divider):\n",
    "                max_divider_key = key\n",
    "                max_divider = dict_vehicleCap[key]\n",
    "                max_solution = val[0]\n",
    "\n",
    "        if num_ambus >= max_solution:\n",
    "            remaining_ambus = num_ambus - max_solution\n",
    "        else:\n",
    "            max_solution = num_ambus\n",
    "            remaining_ambus = num_ambus - max_solution\n",
    "        \n",
    "        remainder = num_demand - max_divider * max_solution\n",
    "        list_solution = [max_divider_key, max_solution, remaining_ambus, remainder]\n",
    "    return list_solution"
   ]
  },
  {
   "cell_type": "code",
   "execution_count": 61,
   "metadata": {},
   "outputs": [],
   "source": [
    "def assign_receiver(df_route_by_sender, \n",
    "                    patient_type, \n",
    "                    num_demand, \n",
    "                    input_scenario, \n",
    "                    df_capacity, \n",
    "                    list_solutions, \n",
    "                    dict_vehicleCap,\n",
    "                    num_ambus):\n",
    "    \n",
    "    if patient_type == 'nc':\n",
    "        \n",
    "        dict_solutions = divide_ambusCap(dict_vehicleCap, num_demand)\n",
    "        vehicle_sol = get_ambusCap(dict_vehicleCap, dict_solutions, num_ambus, num_demand)\n",
    "\n",
    "        input_df_route_sender = df_route_by_sender[df_route_by_sender['vehicleType'] == vehicle_sol[0]]\n",
    "        input_df_route_sender= input_df_route_sender.sort_values(by='c_v')\n",
    "        input_df_route_sender.reset_index(drop=True)\n",
    "\n",
    "        total_ambus_used = vehicle_sol[1]\n",
    "        demand_remove = dict_vehicleCap[vehicle_sol[0]] * total_ambus_used\n",
    "\n",
    "    \n",
    "        for row_num in range(len(input_df_route_sender)):\n",
    "\n",
    "            this_staging = input_df_route_sender.iloc[row_num]['stagingArea']\n",
    "            this_vehicle_type = input_df_route_sender.iloc[row_num]['vehicleType']\n",
    "            this_sender = input_df_route_sender.iloc[row_num]['sender']\n",
    "            this_receiver = input_df_route_sender.iloc[row_num]['receiver']\n",
    "            this_capacity = df_capacity.loc[(df_capacity['receiver'] == this_receiver) & (df_capacity['patientType'] == patient_type)]['receiverCapacity'].values[0]\n",
    "            this_vehicleCap = dict_vehicleCap[this_vehicle_type]\n",
    "\n",
    "            if vehicle_sol[0] == 'v00':\n",
    "\n",
    "                if this_capacity >= demand_remove:\n",
    "                    remaining_capacity = this_capacity - demand_remove\n",
    "                    sol_string = [this_staging, this_sender, this_receiver, this_staging, this_vehicle_type, patient_type, input_scenario, demand_remove]\n",
    "                    list_solutions.append(sol_string)\n",
    "                    df_capacity.loc[(df_capacity['receiver'] == this_receiver) & (df_capacity['patientType'] == patient_type),'receiverCapacity'] = remaining_capacity\n",
    "                    demand_remove = 0\n",
    "                    break\n",
    "\n",
    "                else:\n",
    "                    sol_string = [this_staging, this_sender, this_receiver, this_staging, this_vehicle_type, patient_type, input_scenario, this_capacity]\n",
    "                    list_solutions.append(sol_string)\n",
    "                    demand_remove = demand_remove - this_capacity\n",
    "                    df_capacity.loc[(df_capacity['receiver'] == this_receiver) & (df_capacity['patientType'] == patient_type),'receiverCapacity'] = 0\n",
    "            else:        \n",
    "\n",
    "                if this_capacity >= demand_remove:\n",
    "\n",
    "                    ambus_used = int(demand_remove / dict_vehicleCap[vehicle_sol[0]])\n",
    "\n",
    "                    remaining_capacity = this_capacity - demand_remove\n",
    "                    sol_string = [this_staging, this_sender, this_receiver, this_staging, this_vehicle_type, patient_type, input_scenario, demand_remove]\n",
    "                    list_solutions.append(sol_string)\n",
    "                    df_capacity.loc[(df_capacity['receiver'] == this_receiver) & (df_capacity['patientType'] == patient_type),'receiverCapacity'] = remaining_capacity\n",
    "                    demand_remove = 0\n",
    "                    num_ambus = num_ambus - ambus_used\n",
    "                    total_ambus_used = total_ambus_used - ambus_used\n",
    "\n",
    "                    if total_ambus_used == 0:\n",
    "                        demand_leftover = vehicle_sol[3]\n",
    "                        sol_string = [this_staging, this_sender, this_receiver, this_staging, 'v00', patient_type, input_scenario, demand_leftover]\n",
    "                        list_solutions.append(sol_string)\n",
    "                        remaining_capacity = this_capacity - demand_leftover\n",
    "                        df_capacity.loc[(df_capacity['receiver'] == this_receiver) & (df_capacity['patientType'] == patient_type),'receiverCapacity'] = remaining_capacity\n",
    "                        break\n",
    "\n",
    "                else:\n",
    "\n",
    "                    for i in range(vehicle_sol[1]):\n",
    "                        this_lot = dict_vehicleCap[vehicle_sol[0]] * (i+1)\n",
    "\n",
    "                        if this_capacity < this_lot:\n",
    "                            ambus_used = i\n",
    "                            demand_by_ambus = dict_vehicleCap[vehicle_sol[0]] * i\n",
    "                            break\n",
    "\n",
    "                    sol_string = [this_staging, this_sender, this_receiver, this_staging, this_vehicle_type, patient_type, input_scenario, demand_by_ambus]\n",
    "                    list_solutions.append(sol_string)\n",
    "                    remaining_capacity = this_capacity - demand_by_ambus\n",
    "                    df_capacity.loc[(df_capacity['receiver'] == this_receiver) & (df_capacity['patientType'] == patient_type),'receiverCapacity'] = remaining_capacity\n",
    "                    num_ambus = num_ambus - ambus_used\n",
    "                    total_ambus_used = total_ambus_used - ambus_used\n",
    "                    demand_remove = demand_remove - demand_by_ambus\n",
    "\n",
    "                    if total_ambus_used == 0:\n",
    "                        demand_leftover = vehicle_sol[3]\n",
    "                        sol_string = [this_staging, this_sender, this_receiver, this_staging, 'v00', patient_type, input_scenario, demand_leftover]\n",
    "                        list_solutions.append(sol_string)\n",
    "                        remaining_capacity = this_capacity - demand_leftover\n",
    "                        df_capacity.loc[(df_capacity['receiver'] == this_receiver) & (df_capacity['patientType'] == patient_type),'receiverCapacity'] = remaining_capacity\n",
    "                        break\n",
    "\n",
    "    elif patient_type == 'c':\n",
    "        \n",
    "        input_df_route_sender = df_route_by_sender[df_route_by_sender['vehicleType'] == 'v00']\n",
    "        input_df_route_sender= input_df_route_sender.sort_values(by='c_v')\n",
    "        input_df_route_sender.reset_index(drop=True)\n",
    "        demand_remove = num_demand\n",
    "\n",
    "        for row_num in range(len(input_df_route_sender)):\n",
    "        \n",
    "            this_staging = input_df_route_sender.iloc[row_num]['stagingArea']\n",
    "            this_vehicle_type = input_df_route_sender.iloc[row_num]['vehicleType']\n",
    "            this_sender = input_df_route_sender.iloc[row_num]['sender']\n",
    "            this_receiver = input_df_route_sender.iloc[row_num]['receiver']\n",
    "            this_capacity = df_capacity.loc[(df_capacity['receiver'] == this_receiver) & (df_capacity['patientType'] == patient_type)]['receiverCapacity'].values[0]\n",
    "            this_vehicleCap = dict_vehicleCap[this_vehicle_type]\n",
    "        \n",
    "            if this_capacity >= demand_remove:\n",
    "                remaining_capacity = this_capacity - demand_remove\n",
    "                sol_string = [this_staging, this_sender, this_receiver, this_staging, this_vehicle_type, patient_type, input_scenario, demand_remove]\n",
    "                list_solutions.append(sol_string)\n",
    "                df_capacity.loc[(df_capacity['receiver'] == this_receiver) & (df_capacity['patientType'] == patient_type),'receiverCapacity'] = remaining_capacity\n",
    "                demand_remove = 0\n",
    "                break\n",
    "\n",
    "            else:\n",
    "                sol_string = [this_staging, this_sender, this_receiver, this_staging, this_vehicle_type, patient_type, input_scenario, this_capacity]\n",
    "                list_solutions.append(sol_string)\n",
    "                demand_remove = demand_remove - this_capacity\n",
    "                df_capacity.loc[(df_capacity['receiver'] == this_receiver) & (df_capacity['patientType'] == patient_type),'receiverCapacity'] = 0\n",
    "        \n",
    "    return [df_capacity, list_solutions, num_ambus]"
   ]
  },
  {
   "cell_type": "markdown",
   "metadata": {},
   "source": [
    "### STEP 5: TEST THE FUNCTIONS"
   ]
  },
  {
   "cell_type": "code",
   "execution_count": 62,
   "metadata": {},
   "outputs": [],
   "source": [
    "## INITIALIZE PARAMETERS\n",
    "\n",
    "# PARAMETER 1 : RECEIVER CAPACITY\n",
    "file = 'input_receiverCapacity.tab'\n",
    "df_capacity = pd.read_csv(path + file, delimiter='\\t')\n",
    "df_capacity.head()\n",
    "\n",
    "# PARAMETER 2: AMBUS CAPACITY\n",
    "file = 'input_ambusMax.tab'\n",
    "with open(path+file, newline = '') as input_file:                                                                                          \n",
    "    game_reader = csv.reader(input_file, delimiter='\\t')\n",
    "    for line in game_reader:\n",
    "        num_ambus = int(line[0])\n",
    "\n",
    "# INPUT PARAMETERS\n",
    "dict_vehicleCap = {'v00': 1, 'v20': 20}\n",
    "j = 's318'\n",
    "df_route_by_sender = choose_routes_new(df_routes, j)\n",
    "patient_type = 'nc'\n",
    "num_demand = 4\n",
    "input_scenario = 'w205i2_25-1'\n",
    "df_capacity = df_capacity\n",
    "list_solutions = []\n",
    "dict_vehicleCap = dict_vehicleCap\n",
    "num_ambus = 16"
   ]
  },
  {
   "cell_type": "code",
   "execution_count": 63,
   "metadata": {},
   "outputs": [],
   "source": [
    "output = assign_receiver(df_route_by_sender, \n",
    "                         patient_type, \n",
    "                         num_demand, \n",
    "                         input_scenario, \n",
    "                         df_capacity, \n",
    "                         list_solutions, \n",
    "                         dict_vehicleCap,\n",
    "                         num_ambus)"
   ]
  },
  {
   "cell_type": "code",
   "execution_count": 64,
   "metadata": {},
   "outputs": [
    {
     "data": {
      "text/plain": [
       "([], 16)"
      ]
     },
     "execution_count": 64,
     "metadata": {},
     "output_type": "execute_result"
    }
   ],
   "source": [
    "output[1], output[2]"
   ]
  },
  {
   "cell_type": "markdown",
   "metadata": {},
   "source": [
    "# START ENUMERATION "
   ]
  },
  {
   "cell_type": "code",
   "execution_count": 65,
   "metadata": {
    "scrolled": true
   },
   "outputs": [
    {
     "name": "stdout",
     "output_type": "stream",
     "text": [
      "SCENARIO:  nw205i2_25-10\n",
      "    NUMBER OF SENDERS:  27\n",
      "SCENARIO:  nw205i2_25-11\n",
      "    NUMBER OF SENDERS:  29\n",
      "SCENARIO:  nw205i2_25-12\n",
      "    NUMBER OF SENDERS:  29\n",
      "SCENARIO:  nw205i2_25-13\n",
      "    NUMBER OF SENDERS:  29\n",
      "SCENARIO:  nw205i2_25-14\n",
      "    NUMBER OF SENDERS:  28\n",
      "SCENARIO:  nw205i2_25-15\n",
      "    NUMBER OF SENDERS:  29\n",
      "SCENARIO:  nw205i2_25-9\n",
      "    NUMBER OF SENDERS:  27\n",
      "SCENARIO:  wnw205i2_25-8\n",
      "    NUMBER OF SENDERS:  27\n",
      "SCENARIO:  nnw205i2_25-22\n",
      "    NUMBER OF SENDERS:  14\n",
      "SCENARIO:  nnw205i2_25-23\n",
      "    NUMBER OF SENDERS:  14\n",
      "SCENARIO:  nnw205i2_25-24\n",
      "    NUMBER OF SENDERS:  15\n",
      "SCENARIO:  nnw205i2_25-25\n",
      "    NUMBER OF SENDERS:  14\n",
      "SCENARIO:  nw205i2_25-16\n",
      "    NUMBER OF SENDERS:  23\n",
      "SCENARIO:  nw205i2_25-17\n",
      "    NUMBER OF SENDERS:  19\n",
      "SCENARIO:  nw205i2_25-18\n",
      "    NUMBER OF SENDERS:  19\n",
      "SCENARIO:  nw205i2_25-19\n",
      "    NUMBER OF SENDERS:  16\n",
      "SCENARIO:  nw205i2_25-20\n",
      "    NUMBER OF SENDERS:  16\n",
      "SCENARIO:  nw205i2_25-21\n",
      "    NUMBER OF SENDERS:  15\n",
      "SCENARIO:  w205i2_25-1\n",
      "    NUMBER OF SENDERS:  8\n",
      "SCENARIO:  wnw205i2_25-2\n",
      "    NUMBER OF SENDERS:  10\n",
      "SCENARIO:  wnw205i2_25-3\n",
      "    NUMBER OF SENDERS:  10\n",
      "SCENARIO:  wnw205i2_25-4\n",
      "    NUMBER OF SENDERS:  14\n",
      "SCENARIO:  wnw205i2_25-5\n",
      "    NUMBER OF SENDERS:  14\n",
      "SCENARIO:  wnw205i2_25-6\n",
      "    NUMBER OF SENDERS:  21\n",
      "SCENARIO:  wnw205i2_25-7\n",
      "    NUMBER OF SENDERS:  21\n"
     ]
    }
   ],
   "source": [
    "time_enumeration_start = time.time()\n",
    "list_patient_types = ['nc', 'c']\n",
    "list_solutions = []\n",
    "\n",
    "# START THE ALGORITHM\n",
    "for s in list_scenarios:\n",
    "    print('SCENARIO: ', s)\n",
    "    \n",
    "    # INITIALIZE PARAMETERS\n",
    "    # PARAMETER 1 : RECEIVER CAPACITY\n",
    "    file = 'input_receiverCapacity.tab'\n",
    "    df_capacity = pd.read_csv(path + file, delimiter='\\t')\n",
    "\n",
    "    # PARAMETER 2: AMBUS CAPACITY\n",
    "    file = 'input_ambusMax.tab'\n",
    "    with open(path+file, newline = '') as input_file:                                                                                          \n",
    "        game_reader = csv.reader(input_file, delimiter='\\t')\n",
    "        for line in game_reader:\n",
    "            num_ambus = int(line[0])\n",
    "\n",
    "    \n",
    "    df1 = df_demand[df_demand['scenario'] == s]\n",
    "    list_senders = list(df1['sender'].unique())\n",
    "    print('    NUMBER OF SENDERS: ', len(list_senders))\n",
    "\n",
    "    for j in list_senders:\n",
    "        df2 = df1[df1['sender'] == j]\n",
    "        \n",
    "        # 5.1: Satisfy demand of non-critical patients first\n",
    "        for p in list_patient_types:\n",
    "            num_demand = df2[df2['patientType'] == p]['demand'].values[0]\n",
    "            \n",
    "            if num_demand == 0:\n",
    "                continue\n",
    "\n",
    "            else:\n",
    "                df_route_by_sender = choose_routes_new(df_routes, j)\n",
    "                output = assign_receiver(df_route_by_sender, p, num_demand, s, df_capacity, list_solutions, dict_vehicleCap, num_ambus)\n",
    "                df_capacity = output[0]\n",
    "                list_solutions = output[1]\n",
    "                num_ambus = output[2]\n",
    "\n",
    "time_enumeration_end = time.time()\n"
   ]
  },
  {
   "cell_type": "code",
   "execution_count": 66,
   "metadata": {},
   "outputs": [
    {
     "name": "stdout",
     "output_type": "stream",
     "text": [
      "ENUMERATION TIME:  8.145691871643066\n",
      "1593\n",
      "1058\n"
     ]
    }
   ],
   "source": [
    "print(\"ENUMERATION TIME: \", time_enumeration_end - time_enumeration_start)\n",
    "print(len(list_solutions))\n",
    "\n",
    "list_solutions_final = []\n",
    "for sols in list_solutions:\n",
    "    if sols[7] == 0:\n",
    "        continue\n",
    "    else:\n",
    "        list_solutions_final.append(sols)\n",
    "\n",
    "print(len(list_solutions_final))"
   ]
  },
  {
   "cell_type": "code",
   "execution_count": 67,
   "metadata": {},
   "outputs": [],
   "source": [
    "cols = ['staging', 'sender', 'receiver', 'staging1', 'vehicleType', 'patientType', 'scenario', 'value']\n",
    "df_solution = pd.DataFrame(list_solutions_final, columns = cols)"
   ]
  },
  {
   "cell_type": "code",
   "execution_count": 68,
   "metadata": {},
   "outputs": [],
   "source": [
    "list_scenarios = list(df_solution['scenario'].unique())\n",
    "list_vehicle_types = list(df_solution['vehicleType'].unique())\n",
    "\n",
    "dict_vehicle_solution = {}\n",
    "max_vehicles = {}\n",
    "for vehicle in list_vehicle_types:\n",
    "\n",
    "    vehicle_capacity = dict_vehicleCap[vehicle]\n",
    "    df0 = df_solution[df_solution['vehicleType'] == vehicle]\n",
    "    list_vehicles_used = []\n",
    "\n",
    "    for s in list_scenarios:\n",
    "        df1 = df0[df0['scenario'] == s]\n",
    "        \n",
    "        num_v = 0\n",
    "        for row in range(len(df1)):\n",
    "            vehicle_used = int(df1.iloc[row]['value'] / vehicle_capacity)\n",
    "            num_v = num_v + vehicle_used\n",
    "        \n",
    "        list_vehicles_used.append(num_v)\n",
    "        \n",
    "    dict_vehicle_solution[vehicle] = list_vehicles_used\n",
    "    max_vehicles[vehicle] = max(list_vehicles_used)"
   ]
  },
  {
   "cell_type": "code",
   "execution_count": 69,
   "metadata": {},
   "outputs": [
    {
     "data": {
      "text/plain": [
       "{'v20': 16, 'v00': 1564}"
      ]
     },
     "execution_count": 69,
     "metadata": {},
     "output_type": "execute_result"
    }
   ],
   "source": [
    "max_vehicles"
   ]
  },
  {
   "cell_type": "markdown",
   "metadata": {},
   "source": [
    "# CALCULATE OBJECTIVE VALUE "
   ]
  },
  {
   "cell_type": "code",
   "execution_count": 70,
   "metadata": {},
   "outputs": [
    {
     "name": "stdout",
     "output_type": "stream",
     "text": [
      "nw205i2_25-10\n",
      "nw205i2_25-11\n",
      "nw205i2_25-12\n",
      "nw205i2_25-13\n",
      "nw205i2_25-14\n",
      "nw205i2_25-15\n",
      "nw205i2_25-9\n",
      "wnw205i2_25-8\n",
      "nnw205i2_25-22\n",
      "nnw205i2_25-23\n",
      "nnw205i2_25-24\n",
      "nnw205i2_25-25\n",
      "nw205i2_25-16\n",
      "nw205i2_25-17\n",
      "nw205i2_25-18\n",
      "nw205i2_25-19\n",
      "nw205i2_25-20\n",
      "nw205i2_25-21\n",
      "w205i2_25-1\n",
      "wnw205i2_25-2\n",
      "wnw205i2_25-3\n",
      "wnw205i2_25-4\n",
      "wnw205i2_25-5\n",
      "wnw205i2_25-6\n",
      "wnw205i2_25-7\n",
      "684793.44\n"
     ]
    }
   ],
   "source": [
    "# Calculate solution\n",
    "\n",
    "# fixed_cost\n",
    "file = 'input_openingCost.tab'\n",
    "df_fixed_cost = pd.read_csv(path + file, delimiter='\\t')\n",
    "fixed_cost = df_fixed_cost[df_fixed_cost['stagingArea'] == staging_area]['openingCost'].values[0]\n",
    "\n",
    "\n",
    "# resource_cost\n",
    "file = 'input_c_v.tab'\n",
    "df_resource_cost = pd.read_csv(path + file, delimiter='\\t')\n",
    "dict_resource_cost = dict(zip(df_resource_cost['vehicleType'], df_resource_cost['c_v']))\n",
    "resource_cost = 0\n",
    "for key, value in dict_resource_cost.items():\n",
    "    temp_resource_cost = value * max_vehicles[key]\n",
    "    resource_cost = resource_cost + temp_resource_cost\n",
    "\n",
    "\n",
    "# operation_cost\n",
    "file = 'input_c1.tab'\n",
    "df_routes = pd.read_csv(path + file, delimiter='\\t')\n",
    "df_routes = df_routes[df_routes['stagingArea'] == staging_area]\n",
    "\n",
    "file = 'input_probability.tab'\n",
    "df_probability = pd.read_csv(path + file, delimiter='\\t')\n",
    "dict_probability = dict(zip(df_probability['scenario'], df_probability['probability']))\n",
    "\n",
    "list_scenarios = list(df_solution['scenario'].unique())\n",
    "operating_cost = 0\n",
    "for s in list_scenarios:\n",
    "    print(s)\n",
    "    dff = df_solution[df_solution['scenario'] == s]\n",
    "    \n",
    "    scenario_sum = 0\n",
    "    for row in range(len(dff)):\n",
    "        i = dff.iloc[row]['staging']\n",
    "        j = dff.iloc[row]['sender']\n",
    "        k = dff.iloc[row]['receiver']\n",
    "        v = dff.iloc[row]['vehicleType']\n",
    "        p = dff.iloc[row]['patientType']\n",
    "        x = dff.iloc[row]['value']\n",
    "        c_v = df_routes[(df_routes['stagingArea'] == i) & (df_routes['sender'] == j) & (df_routes['receiver'] == k) & (df_routes['vehicleType'] == v)]['c_v'].values[0]\n",
    "        \n",
    "        row_sum = dict_probability[s] * x * c_v\n",
    "        scenario_sum = scenario_sum + row_sum\n",
    "    operating_cost = operating_cost + scenario_sum\n",
    "\n",
    "# Find total objective value\n",
    "objective_value = fixed_cost + resource_cost + operating_cost\n",
    "print(objective_value)"
   ]
  },
  {
   "cell_type": "markdown",
   "metadata": {},
   "source": [
    "### STEP 6: SANITY CHECK"
   ]
  },
  {
   "cell_type": "code",
   "execution_count": 71,
   "metadata": {},
   "outputs": [],
   "source": [
    "# SEE IF THE SUM OF X VARIABLES MATCHES WITH DEMAND PARAMETER\n",
    "# dataframes to compare: df_solution vs. df_demand"
   ]
  },
  {
   "cell_type": "code",
   "execution_count": 72,
   "metadata": {},
   "outputs": [
    {
     "data": {
      "text/html": [
       "<div>\n",
       "<style scoped>\n",
       "    .dataframe tbody tr th:only-of-type {\n",
       "        vertical-align: middle;\n",
       "    }\n",
       "\n",
       "    .dataframe tbody tr th {\n",
       "        vertical-align: top;\n",
       "    }\n",
       "\n",
       "    .dataframe thead th {\n",
       "        text-align: right;\n",
       "    }\n",
       "</style>\n",
       "<table border=\"1\" class=\"dataframe\">\n",
       "  <thead>\n",
       "    <tr style=\"text-align: right;\">\n",
       "      <th></th>\n",
       "      <th>sender</th>\n",
       "      <th>patientType</th>\n",
       "      <th>scenario</th>\n",
       "      <th>demand</th>\n",
       "    </tr>\n",
       "  </thead>\n",
       "  <tbody>\n",
       "    <tr>\n",
       "      <th>0</th>\n",
       "      <td>s001</td>\n",
       "      <td>c</td>\n",
       "      <td>nw205i2_25-10</td>\n",
       "      <td>55</td>\n",
       "    </tr>\n",
       "    <tr>\n",
       "      <th>1</th>\n",
       "      <td>s001</td>\n",
       "      <td>nc</td>\n",
       "      <td>nw205i2_25-10</td>\n",
       "      <td>222</td>\n",
       "    </tr>\n",
       "    <tr>\n",
       "      <th>2</th>\n",
       "      <td>s001</td>\n",
       "      <td>c</td>\n",
       "      <td>nw205i2_25-11</td>\n",
       "      <td>55</td>\n",
       "    </tr>\n",
       "    <tr>\n",
       "      <th>3</th>\n",
       "      <td>s001</td>\n",
       "      <td>nc</td>\n",
       "      <td>nw205i2_25-11</td>\n",
       "      <td>222</td>\n",
       "    </tr>\n",
       "    <tr>\n",
       "      <th>4</th>\n",
       "      <td>s001</td>\n",
       "      <td>c</td>\n",
       "      <td>nw205i2_25-12</td>\n",
       "      <td>55</td>\n",
       "    </tr>\n",
       "  </tbody>\n",
       "</table>\n",
       "</div>"
      ],
      "text/plain": [
       "  sender patientType       scenario  demand\n",
       "0   s001           c  nw205i2_25-10      55\n",
       "1   s001          nc  nw205i2_25-10     222\n",
       "2   s001           c  nw205i2_25-11      55\n",
       "3   s001          nc  nw205i2_25-11     222\n",
       "4   s001           c  nw205i2_25-12      55"
      ]
     },
     "execution_count": 72,
     "metadata": {},
     "output_type": "execute_result"
    }
   ],
   "source": [
    "# DEMANDS\n",
    "file = 'input_demand_vs.tab'\n",
    "df_demand = pd.read_csv(path + file, delimiter='\\t')\n",
    "list_scenarios = list(df_demand['scenario'].unique())\n",
    "df_demand.head()"
   ]
  },
  {
   "cell_type": "code",
   "execution_count": 73,
   "metadata": {},
   "outputs": [
    {
     "name": "stdout",
     "output_type": "stream",
     "text": [
      "nw205i2_25-10\n",
      "nw205i2_25-11\n",
      "nw205i2_25-12\n",
      "nw205i2_25-13\n",
      "nw205i2_25-14\n",
      "nw205i2_25-15\n",
      "nw205i2_25-9\n",
      "wnw205i2_25-8\n",
      "nnw205i2_25-22\n",
      "nnw205i2_25-23\n",
      "nnw205i2_25-24\n",
      "nnw205i2_25-25\n",
      "nw205i2_25-16\n",
      "nw205i2_25-17\n",
      "nw205i2_25-18\n",
      "nw205i2_25-19\n",
      "nw205i2_25-20\n",
      "nw205i2_25-21\n",
      "w205i2_25-1\n",
      "wnw205i2_25-2\n",
      "wnw205i2_25-3\n",
      "wnw205i2_25-4\n",
      "wnw205i2_25-5\n",
      "wnw205i2_25-6\n",
      "wnw205i2_25-7\n",
      "0\n",
      "[]\n"
     ]
    }
   ],
   "source": [
    "error = 0\n",
    "list_errors = []\n",
    "for s in list(df_solution['scenario'].unique()):\n",
    "    print(s)\n",
    "    df0 = df_solution.loc[df_solution['scenario'] == s]\n",
    "    \n",
    "    for j in list(df0['sender'].unique()):\n",
    "        \n",
    "        df1 = df0.loc[df0['sender'] == j]\n",
    "        \n",
    "        for p in list(df1['patientType'].unique()):\n",
    "            patient_transferred = sum(df1.loc[df1['patientType'] == p]['value'].values)\n",
    "            patient_demand = sum(df_demand.loc[(df_demand['scenario'] == s) & (df_demand['sender'] == j) & (df_demand['patientType'] == p)]['demand'].values)\n",
    "            if patient_transferred != patient_demand:\n",
    "                error = error + 1\n",
    "                list_errors.append([s, j, p])\n",
    "\n",
    "print(error)\n",
    "print(list_errors)"
   ]
  },
  {
   "cell_type": "code",
   "execution_count": null,
   "metadata": {},
   "outputs": [],
   "source": []
  }
 ],
 "metadata": {
  "kernelspec": {
   "display_name": "Python 3",
   "language": "python",
   "name": "python3"
  },
  "language_info": {
   "codemirror_mode": {
    "name": "ipython",
    "version": 3
   },
   "file_extension": ".py",
   "mimetype": "text/x-python",
   "name": "python",
   "nbconvert_exporter": "python",
   "pygments_lexer": "ipython3",
   "version": "3.7.3"
  }
 },
 "nbformat": 4,
 "nbformat_minor": 4
}
